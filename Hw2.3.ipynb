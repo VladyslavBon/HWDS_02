{
 "cells": [
  {
   "cell_type": "code",
   "execution_count": 1,
   "id": "3f526f83-da27-40d3-b1ad-198501255e59",
   "metadata": {},
   "outputs": [
    {
     "data": {
      "text/html": [
       "<div>\n",
       "<style scoped>\n",
       "    .dataframe tbody tr th:only-of-type {\n",
       "        vertical-align: middle;\n",
       "    }\n",
       "\n",
       "    .dataframe tbody tr th {\n",
       "        vertical-align: top;\n",
       "    }\n",
       "\n",
       "    .dataframe thead th {\n",
       "        text-align: right;\n",
       "    }\n",
       "</style>\n",
       "<table border=\"1\" class=\"dataframe\">\n",
       "  <thead>\n",
       "    <tr style=\"text-align: right;\">\n",
       "      <th></th>\n",
       "      <th>Name</th>\n",
       "      <th>Author</th>\n",
       "      <th>User Rating</th>\n",
       "      <th>Reviews</th>\n",
       "      <th>Price</th>\n",
       "      <th>Year</th>\n",
       "      <th>Genre</th>\n",
       "    </tr>\n",
       "  </thead>\n",
       "  <tbody>\n",
       "    <tr>\n",
       "      <th>0</th>\n",
       "      <td>10-Day Green Smoothie Cleanse</td>\n",
       "      <td>JJ Smith</td>\n",
       "      <td>4.7</td>\n",
       "      <td>17350</td>\n",
       "      <td>8</td>\n",
       "      <td>2016</td>\n",
       "      <td>Non Fiction</td>\n",
       "    </tr>\n",
       "    <tr>\n",
       "      <th>1</th>\n",
       "      <td>11/22/63: A Novel</td>\n",
       "      <td>Stephen King</td>\n",
       "      <td>4.6</td>\n",
       "      <td>2052</td>\n",
       "      <td>22</td>\n",
       "      <td>2011</td>\n",
       "      <td>Fiction</td>\n",
       "    </tr>\n",
       "    <tr>\n",
       "      <th>2</th>\n",
       "      <td>12 Rules for Life: An Antidote to Chaos</td>\n",
       "      <td>Jordan B. Peterson</td>\n",
       "      <td>4.7</td>\n",
       "      <td>18979</td>\n",
       "      <td>15</td>\n",
       "      <td>2018</td>\n",
       "      <td>Non Fiction</td>\n",
       "    </tr>\n",
       "    <tr>\n",
       "      <th>3</th>\n",
       "      <td>1984 (Signet Classics)</td>\n",
       "      <td>George Orwell</td>\n",
       "      <td>4.7</td>\n",
       "      <td>21424</td>\n",
       "      <td>6</td>\n",
       "      <td>2017</td>\n",
       "      <td>Fiction</td>\n",
       "    </tr>\n",
       "    <tr>\n",
       "      <th>4</th>\n",
       "      <td>5,000 Awesome Facts (About Everything!) (Natio...</td>\n",
       "      <td>National Geographic Kids</td>\n",
       "      <td>4.8</td>\n",
       "      <td>7665</td>\n",
       "      <td>12</td>\n",
       "      <td>2019</td>\n",
       "      <td>Non Fiction</td>\n",
       "    </tr>\n",
       "  </tbody>\n",
       "</table>\n",
       "</div>"
      ],
      "text/plain": [
       "                                                Name  \\\n",
       "0                      10-Day Green Smoothie Cleanse   \n",
       "1                                  11/22/63: A Novel   \n",
       "2            12 Rules for Life: An Antidote to Chaos   \n",
       "3                             1984 (Signet Classics)   \n",
       "4  5,000 Awesome Facts (About Everything!) (Natio...   \n",
       "\n",
       "                     Author  User Rating  Reviews  Price  Year        Genre  \n",
       "0                  JJ Smith          4.7    17350      8  2016  Non Fiction  \n",
       "1              Stephen King          4.6     2052     22  2011      Fiction  \n",
       "2        Jordan B. Peterson          4.7    18979     15  2018  Non Fiction  \n",
       "3             George Orwell          4.7    21424      6  2017      Fiction  \n",
       "4  National Geographic Kids          4.8     7665     12  2019  Non Fiction  "
      ]
     },
     "execution_count": 1,
     "metadata": {},
     "output_type": "execute_result"
    }
   ],
   "source": [
    "import pandas as pd\n",
    "\n",
    "dataset = pd.read_csv(\"bestsellers_with_categories.csv\")\n",
    "dataset.head()"
   ]
  },
  {
   "cell_type": "code",
   "execution_count": 2,
   "id": "ce8c3924-897e-40cb-a798-9b9436203487",
   "metadata": {},
   "outputs": [
    {
     "data": {
      "text/plain": [
       "(550, 7)"
      ]
     },
     "execution_count": 2,
     "metadata": {},
     "output_type": "execute_result"
    }
   ],
   "source": [
    "dataset.shape"
   ]
  },
  {
   "cell_type": "markdown",
   "id": "79e0e01d-0e4e-4524-becc-68dcf1ddaed9",
   "metadata": {},
   "source": [
    "Про скільки книг зберігає дані датасет?"
   ]
  },
  {
   "cell_type": "code",
   "execution_count": 3,
   "id": "6849e0ed-ed6e-4288-8784-cf89dc9e7a84",
   "metadata": {},
   "outputs": [
    {
     "name": "stdout",
     "output_type": "stream",
     "text": [
      "Відповідь: 550\n"
     ]
    }
   ],
   "source": [
    "print(f\"Відповідь: {dataset.shape[0]}\")"
   ]
  },
  {
   "cell_type": "code",
   "execution_count": 4,
   "id": "f1e24d6d-fb50-4712-9f1e-b2e5ea6f6be1",
   "metadata": {},
   "outputs": [],
   "source": [
    "dataset.columns = ['name', 'author', 'user_rating', 'reviews', 'price', 'year', 'genre']"
   ]
  },
  {
   "cell_type": "code",
   "execution_count": 5,
   "id": "a2991388-9ba7-4fa8-8063-e6b7e99eb016",
   "metadata": {},
   "outputs": [
    {
     "data": {
      "text/plain": [
       "name           0\n",
       "author         0\n",
       "user_rating    0\n",
       "reviews        0\n",
       "price          0\n",
       "year           0\n",
       "genre          0\n",
       "dtype: int64"
      ]
     },
     "execution_count": 5,
     "metadata": {},
     "output_type": "execute_result"
    }
   ],
   "source": [
    "dataset.isna().sum()"
   ]
  },
  {
   "cell_type": "markdown",
   "id": "c6229f9d-5788-4211-bda4-0bb2e762ecf5",
   "metadata": {},
   "source": [
    "Чи є в якихось змінних пропуски?"
   ]
  },
  {
   "cell_type": "code",
   "execution_count": 6,
   "id": "bb3ffa18-ad20-48a5-8972-06bbdcaf71e4",
   "metadata": {},
   "outputs": [
    {
     "name": "stdout",
     "output_type": "stream",
     "text": [
      "Відповідь: Ні\n"
     ]
    }
   ],
   "source": [
    "print(\"Відповідь: Ні\")"
   ]
  },
  {
   "cell_type": "code",
   "execution_count": 7,
   "id": "ae75e76c-db32-4952-9d98-a714731b01aa",
   "metadata": {},
   "outputs": [
    {
     "data": {
      "text/plain": [
       "array(['Non Fiction', 'Fiction'], dtype=object)"
      ]
     },
     "execution_count": 7,
     "metadata": {},
     "output_type": "execute_result"
    }
   ],
   "source": [
    "dataset['genre'].unique()"
   ]
  },
  {
   "cell_type": "markdown",
   "id": "6fb9b92f-c242-4917-982f-45a2f94ece42",
   "metadata": {},
   "source": [
    "Які є унікальні жанри?"
   ]
  },
  {
   "cell_type": "code",
   "execution_count": 8,
   "id": "af3b4ca0-9340-4e83-ab79-4959c8a74e1a",
   "metadata": {},
   "outputs": [
    {
     "name": "stdout",
     "output_type": "stream",
     "text": [
      "Відповідь: ['Non Fiction' 'Fiction']\n"
     ]
    }
   ],
   "source": [
    "print(f\"Відповідь: {dataset['genre'].unique()}\")"
   ]
  },
  {
   "cell_type": "code",
   "execution_count": 9,
   "id": "5fcb089d-6370-4e6b-be75-fe436bb38f05",
   "metadata": {},
   "outputs": [
    {
     "data": {
      "text/plain": [
       "<Axes: ylabel='Frequency'>"
      ]
     },
     "execution_count": 9,
     "metadata": {},
     "output_type": "execute_result"
    },
    {
     "data": {
      "image/png": "[encoded data removed]",
      "text/plain": [
       "<Figure size 640x480 with 1 Axes>"
      ]
     },
     "metadata": {},
     "output_type": "display_data"
    }
   ],
   "source": [
    "dataset['price'].plot(kind='hist')"
   ]
  },
  {
   "cell_type": "code",
   "execution_count": 10,
   "id": "697e9153-73b3-4eb3-bbd2-beceea6cdbcc",
   "metadata": {},
   "outputs": [],
   "source": [
    "max_price = dataset['price'].max()\n",
    "min_price = dataset['price'].min()\n",
    "mean_price = dataset['price'].mean()\n",
    "median_price = dataset['price'].median()"
   ]
  },
  {
   "cell_type": "markdown",
   "id": "9ab6c1e9-8d73-4729-a732-a5fddf695690",
   "metadata": {},
   "source": [
    "Максимальна ціна?"
   ]
  },
  {
   "cell_type": "code",
   "execution_count": 11,
   "id": "2c803b24-b339-431f-9502-0edaf26b2435",
   "metadata": {},
   "outputs": [
    {
     "name": "stdout",
     "output_type": "stream",
     "text": [
      "Відповідь: 105\n"
     ]
    }
   ],
   "source": [
    "print(f\"Відповідь: {max_price}\")"
   ]
  },
  {
   "cell_type": "markdown",
   "id": "dbd278de-a12a-4bdb-986a-084600abd4cd",
   "metadata": {},
   "source": [
    "Мінімальна ціна?"
   ]
  },
  {
   "cell_type": "code",
   "execution_count": 12,
   "id": "641d4a3c-1c38-4192-8acf-ef47e1ef0161",
   "metadata": {},
   "outputs": [
    {
     "name": "stdout",
     "output_type": "stream",
     "text": [
      "Відповідь: 0\n"
     ]
    }
   ],
   "source": [
    "print(f\"Відповідь: {min_price}\")"
   ]
  },
  {
   "cell_type": "markdown",
   "id": "69a6ad0d-7db1-4f01-b203-d7a9b0e072e2",
   "metadata": {},
   "source": [
    "Середня ціна?"
   ]
  },
  {
   "cell_type": "code",
   "execution_count": 13,
   "id": "21b91bbb-71dd-4048-8ca2-8dbbfb703f44",
   "metadata": {},
   "outputs": [
    {
     "name": "stdout",
     "output_type": "stream",
     "text": [
      "Відповідь: 13.1\n"
     ]
    }
   ],
   "source": [
    "print(f\"Відповідь: {mean_price}\")"
   ]
  },
  {
   "cell_type": "markdown",
   "id": "1abd9add-6af2-44c7-83c7-a9bb2e37ee8a",
   "metadata": {},
   "source": [
    "Медіанна ціна?"
   ]
  },
  {
   "cell_type": "code",
   "execution_count": 14,
   "id": "489d2092-b2f3-45bc-b1df-13a562530676",
   "metadata": {},
   "outputs": [
    {
     "name": "stdout",
     "output_type": "stream",
     "text": [
      "Відповідь: 11.0\n"
     ]
    }
   ],
   "source": [
    "print(f\"Відповідь: {median_price}\")"
   ]
  },
  {
   "cell_type": "markdown",
   "id": "75f8badf-75b6-4749-bd73-8023ad222cb4",
   "metadata": {},
   "source": [
    "Який рейтинг у датасеті найвищий?"
   ]
  },
  {
   "cell_type": "code",
   "execution_count": 15,
   "id": "96435e9d-7846-41be-a55d-3c4568fb61d5",
   "metadata": {},
   "outputs": [
    {
     "name": "stdout",
     "output_type": "stream",
     "text": [
      "Відповідь: 4.9\n"
     ]
    }
   ],
   "source": [
    "print(f\"Відповідь: {dataset['user_rating'].max()}\")"
   ]
  },
  {
   "cell_type": "markdown",
   "id": "e11cffca-5163-4aee-a6a2-48a8875f628d",
   "metadata": {},
   "source": [
    "Скільки книг мають такий рейтинг?"
   ]
  },
  {
   "cell_type": "code",
   "execution_count": 16,
   "id": "bc84d971-38bf-4f46-aba7-cedfba409612",
   "metadata": {},
   "outputs": [
    {
     "name": "stdout",
     "output_type": "stream",
     "text": [
      "Відповідь: 52\n"
     ]
    }
   ],
   "source": [
    "print(f\"Відповідь: {dataset[dataset['user_rating'] == dataset['user_rating'].max()].shape[0]}\")"
   ]
  },
  {
   "cell_type": "markdown",
   "id": "59411f12-ece5-4484-9cdb-1ea6979773e0",
   "metadata": {},
   "source": [
    "Яка книга має найбільше відгуків?"
   ]
  },
  {
   "cell_type": "code",
   "execution_count": 17,
   "id": "782868ba-b74f-4ff7-8ed4-0cb4fc596528",
   "metadata": {},
   "outputs": [
    {
     "name": "stdout",
     "output_type": "stream",
     "text": [
      "Відповідь: 534    Where the Crawdads Sing\n",
      "Name: name, dtype: object\n"
     ]
    }
   ],
   "source": [
    "print(f\"Відповідь: {dataset[dataset['reviews'] == dataset['reviews'].max()]['name']}\")"
   ]
  },
  {
   "cell_type": "markdown",
   "id": "d3cfeb86-59c7-49a0-8be2-ced19b4a7dcf",
   "metadata": {},
   "source": [
    "З тих книг, що потрапили до Топ-50 у 2015 році, яка книга найдорожча?"
   ]
  },
  {
   "cell_type": "code",
   "execution_count": 18,
   "id": "71132b5f-d1eb-47db-9ad5-7feb076b59f4",
   "metadata": {},
   "outputs": [
    {
     "name": "stdout",
     "output_type": "stream",
     "text": [
      "Відповідь: 277    Publication Manual of the American Psychologic...\n",
      "Name: name, dtype: object\n"
     ]
    }
   ],
   "source": [
    "books_2015 = dataset[dataset['year'] == 2015]\n",
    "print(f\"Відповідь: {books_2015[books_2015['price'] == books_2015['price'].max()]['name']}\")"
   ]
  },
  {
   "cell_type": "markdown",
   "id": "dbbccebe-6b11-4147-b476-a7a1c7372378",
   "metadata": {},
   "source": [
    "Скільки книг жанру Fiction потрапили до Топ-50 у 2010 році?"
   ]
  },
  {
   "cell_type": "code",
   "execution_count": 19,
   "id": "0fd1fb8c-86f9-46ea-9e7b-92bd5164a9f4",
   "metadata": {},
   "outputs": [
    {
     "name": "stdout",
     "output_type": "stream",
     "text": [
      "Відповідь: 20\n"
     ]
    }
   ],
   "source": [
    "print(f\"Відповідь: {dataset[(dataset['genre'] == 'Fiction') & (dataset['year'] == 2010)].shape[0]}\")"
   ]
  },
  {
   "cell_type": "markdown",
   "id": "f1d9bd71-e3cc-4d33-a365-94a3cde0ad06",
   "metadata": {},
   "source": [
    "Скільки книг з рейтингом 4.9 потрапило до рейтингу у 2010 та 2011 роках?"
   ]
  },
  {
   "cell_type": "code",
   "execution_count": 20,
   "id": "46ed8ae8-c832-4468-a095-7879560f5e92",
   "metadata": {},
   "outputs": [
    {
     "name": "stdout",
     "output_type": "stream",
     "text": [
      "Відповідь: 1\n"
     ]
    }
   ],
   "source": [
    "print(f\"Відповідь: {dataset[(dataset['user_rating'] == 4.9) & ((dataset['year'] == 2010) | (dataset['year'] == 2011))].shape[0]}\")"
   ]
  },
  {
   "cell_type": "code",
   "execution_count": 21,
   "id": "715d2d58-ec5e-4a36-88e7-ea0b9deca227",
   "metadata": {},
   "outputs": [
    {
     "data": {
      "text/html": [
       "<div>\n",
       "<style scoped>\n",
       "    .dataframe tbody tr th:only-of-type {\n",
       "        vertical-align: middle;\n",
       "    }\n",
       "\n",
       "    .dataframe tbody tr th {\n",
       "        vertical-align: top;\n",
       "    }\n",
       "\n",
       "    .dataframe thead th {\n",
       "        text-align: right;\n",
       "    }\n",
       "</style>\n",
       "<table border=\"1\" class=\"dataframe\">\n",
       "  <thead>\n",
       "    <tr style=\"text-align: right;\">\n",
       "      <th></th>\n",
       "      <th>name</th>\n",
       "      <th>author</th>\n",
       "      <th>user_rating</th>\n",
       "      <th>reviews</th>\n",
       "      <th>price</th>\n",
       "      <th>year</th>\n",
       "      <th>genre</th>\n",
       "    </tr>\n",
       "  </thead>\n",
       "  <tbody>\n",
       "    <tr>\n",
       "      <th>507</th>\n",
       "      <td>To Kill a Mockingbird</td>\n",
       "      <td>Harper Lee</td>\n",
       "      <td>4.8</td>\n",
       "      <td>26234</td>\n",
       "      <td>0</td>\n",
       "      <td>2015</td>\n",
       "      <td>Fiction</td>\n",
       "    </tr>\n",
       "    <tr>\n",
       "      <th>210</th>\n",
       "      <td>Laugh-Out-Loud Jokes for Kids</td>\n",
       "      <td>Rob Elliott</td>\n",
       "      <td>4.6</td>\n",
       "      <td>6990</td>\n",
       "      <td>4</td>\n",
       "      <td>2015</td>\n",
       "      <td>Non Fiction</td>\n",
       "    </tr>\n",
       "    <tr>\n",
       "      <th>206</th>\n",
       "      <td>Knock-Knock Jokes for Kids</td>\n",
       "      <td>Rob Elliott</td>\n",
       "      <td>4.5</td>\n",
       "      <td>3673</td>\n",
       "      <td>4</td>\n",
       "      <td>2015</td>\n",
       "      <td>Non Fiction</td>\n",
       "    </tr>\n",
       "    <tr>\n",
       "      <th>111</th>\n",
       "      <td>First 100 Words</td>\n",
       "      <td>Roger Priddy</td>\n",
       "      <td>4.7</td>\n",
       "      <td>17323</td>\n",
       "      <td>4</td>\n",
       "      <td>2015</td>\n",
       "      <td>Non Fiction</td>\n",
       "    </tr>\n",
       "    <tr>\n",
       "      <th>123</th>\n",
       "      <td>Giraffes Can't Dance</td>\n",
       "      <td>Giles Andreae</td>\n",
       "      <td>4.8</td>\n",
       "      <td>14038</td>\n",
       "      <td>4</td>\n",
       "      <td>2015</td>\n",
       "      <td>Fiction</td>\n",
       "    </tr>\n",
       "    <tr>\n",
       "      <th>54</th>\n",
       "      <td>Creative Haven Creative Cats Coloring Book (Ad...</td>\n",
       "      <td>Marjorie Sarnat</td>\n",
       "      <td>4.8</td>\n",
       "      <td>4022</td>\n",
       "      <td>4</td>\n",
       "      <td>2015</td>\n",
       "      <td>Non Fiction</td>\n",
       "    </tr>\n",
       "    <tr>\n",
       "      <th>63</th>\n",
       "      <td>Dear Zoo: A Lift-the-Flap Book</td>\n",
       "      <td>Rod Campbell</td>\n",
       "      <td>4.8</td>\n",
       "      <td>10922</td>\n",
       "      <td>5</td>\n",
       "      <td>2015</td>\n",
       "      <td>Fiction</td>\n",
       "    </tr>\n",
       "    <tr>\n",
       "      <th>89</th>\n",
       "      <td>Dover Creative Haven Art Nouveau Animal Design...</td>\n",
       "      <td>Marty Noble</td>\n",
       "      <td>4.6</td>\n",
       "      <td>2134</td>\n",
       "      <td>5</td>\n",
       "      <td>2015</td>\n",
       "      <td>Non Fiction</td>\n",
       "    </tr>\n",
       "    <tr>\n",
       "      <th>478</th>\n",
       "      <td>The Very Hungry Caterpillar</td>\n",
       "      <td>Eric Carle</td>\n",
       "      <td>4.9</td>\n",
       "      <td>19546</td>\n",
       "      <td>5</td>\n",
       "      <td>2015</td>\n",
       "      <td>Fiction</td>\n",
       "    </tr>\n",
       "    <tr>\n",
       "      <th>201</th>\n",
       "      <td>Killing Reagan: The Violent Assault That Chang...</td>\n",
       "      <td>Bill O'Reilly</td>\n",
       "      <td>4.6</td>\n",
       "      <td>5235</td>\n",
       "      <td>5</td>\n",
       "      <td>2015</td>\n",
       "      <td>Non Fiction</td>\n",
       "    </tr>\n",
       "    <tr>\n",
       "      <th>28</th>\n",
       "      <td>Baby Touch and Feel: Animals</td>\n",
       "      <td>DK</td>\n",
       "      <td>4.6</td>\n",
       "      <td>5360</td>\n",
       "      <td>5</td>\n",
       "      <td>2015</td>\n",
       "      <td>Non Fiction</td>\n",
       "    </tr>\n",
       "    <tr>\n",
       "      <th>224</th>\n",
       "      <td>Love You Forever</td>\n",
       "      <td>Robert Munsch</td>\n",
       "      <td>4.8</td>\n",
       "      <td>18613</td>\n",
       "      <td>5</td>\n",
       "      <td>2015</td>\n",
       "      <td>Fiction</td>\n",
       "    </tr>\n",
       "    <tr>\n",
       "      <th>55</th>\n",
       "      <td>Creative Haven Owls Coloring Book (Adult Color...</td>\n",
       "      <td>Marjorie Sarnat</td>\n",
       "      <td>4.8</td>\n",
       "      <td>3871</td>\n",
       "      <td>5</td>\n",
       "      <td>2015</td>\n",
       "      <td>Non Fiction</td>\n",
       "    </tr>\n",
       "    <tr>\n",
       "      <th>17</th>\n",
       "      <td>Adult Coloring Book: Stress Relieving Patterns</td>\n",
       "      <td>Blue Star Coloring</td>\n",
       "      <td>4.4</td>\n",
       "      <td>2951</td>\n",
       "      <td>6</td>\n",
       "      <td>2015</td>\n",
       "      <td>Non Fiction</td>\n",
       "    </tr>\n",
       "    <tr>\n",
       "      <th>376</th>\n",
       "      <td>The Four Agreements: A Practical Guide to Pers...</td>\n",
       "      <td>Don Miguel Ruiz</td>\n",
       "      <td>4.7</td>\n",
       "      <td>23308</td>\n",
       "      <td>6</td>\n",
       "      <td>2015</td>\n",
       "      <td>Non Fiction</td>\n",
       "    </tr>\n",
       "    <tr>\n",
       "      <th>16</th>\n",
       "      <td>Adult Coloring Book: Stress Relieving Animal D...</td>\n",
       "      <td>Blue Star Coloring</td>\n",
       "      <td>4.6</td>\n",
       "      <td>2925</td>\n",
       "      <td>6</td>\n",
       "      <td>2015</td>\n",
       "      <td>Non Fiction</td>\n",
       "    </tr>\n",
       "    <tr>\n",
       "      <th>253</th>\n",
       "      <td>Old School (Diary of a Wimpy Kid #10)</td>\n",
       "      <td>Jeff Kinney</td>\n",
       "      <td>4.8</td>\n",
       "      <td>6169</td>\n",
       "      <td>7</td>\n",
       "      <td>2015</td>\n",
       "      <td>Fiction</td>\n",
       "    </tr>\n",
       "  </tbody>\n",
       "</table>\n",
       "</div>"
      ],
      "text/plain": [
       "                                                  name              author  \\\n",
       "507                              To Kill a Mockingbird          Harper Lee   \n",
       "210                      Laugh-Out-Loud Jokes for Kids         Rob Elliott   \n",
       "206                         Knock-Knock Jokes for Kids         Rob Elliott   \n",
       "111                                    First 100 Words        Roger Priddy   \n",
       "123                               Giraffes Can't Dance       Giles Andreae   \n",
       "54   Creative Haven Creative Cats Coloring Book (Ad...     Marjorie Sarnat   \n",
       "63                      Dear Zoo: A Lift-the-Flap Book        Rod Campbell   \n",
       "89   Dover Creative Haven Art Nouveau Animal Design...         Marty Noble   \n",
       "478                        The Very Hungry Caterpillar          Eric Carle   \n",
       "201  Killing Reagan: The Violent Assault That Chang...       Bill O'Reilly   \n",
       "28                        Baby Touch and Feel: Animals                  DK   \n",
       "224                                   Love You Forever       Robert Munsch   \n",
       "55   Creative Haven Owls Coloring Book (Adult Color...     Marjorie Sarnat   \n",
       "17      Adult Coloring Book: Stress Relieving Patterns  Blue Star Coloring   \n",
       "376  The Four Agreements: A Practical Guide to Pers...     Don Miguel Ruiz   \n",
       "16   Adult Coloring Book: Stress Relieving Animal D...  Blue Star Coloring   \n",
       "253              Old School (Diary of a Wimpy Kid #10)         Jeff Kinney   \n",
       "\n",
       "     user_rating  reviews  price  year        genre  \n",
       "507          4.8    26234      0  2015      Fiction  \n",
       "210          4.6     6990      4  2015  Non Fiction  \n",
       "206          4.5     3673      4  2015  Non Fiction  \n",
       "111          4.7    17323      4  2015  Non Fiction  \n",
       "123          4.8    14038      4  2015      Fiction  \n",
       "54           4.8     4022      4  2015  Non Fiction  \n",
       "63           4.8    10922      5  2015      Fiction  \n",
       "89           4.6     2134      5  2015  Non Fiction  \n",
       "478          4.9    19546      5  2015      Fiction  \n",
       "201          4.6     5235      5  2015  Non Fiction  \n",
       "28           4.6     5360      5  2015  Non Fiction  \n",
       "224          4.8    18613      5  2015      Fiction  \n",
       "55           4.8     3871      5  2015  Non Fiction  \n",
       "17           4.4     2951      6  2015  Non Fiction  \n",
       "376          4.7    23308      6  2015  Non Fiction  \n",
       "16           4.6     2925      6  2015  Non Fiction  \n",
       "253          4.8     6169      7  2015      Fiction  "
      ]
     },
     "execution_count": 21,
     "metadata": {},
     "output_type": "execute_result"
    }
   ],
   "source": [
    "table = books_2015[books_2015['price'] < 8].sort_values('price')\n",
    "table"
   ]
  },
  {
   "cell_type": "markdown",
   "id": "1d26835e-fcd0-4356-af25-6aff7b59cc57",
   "metadata": {},
   "source": [
    "Яка книга остання у відсортованому списку?"
   ]
  },
  {
   "cell_type": "code",
   "execution_count": 22,
   "id": "5ae8d14e-5ead-40d6-bd3f-495e9d66dd6c",
   "metadata": {},
   "outputs": [
    {
     "name": "stdout",
     "output_type": "stream",
     "text": [
      "Відповідь: 253    Old School (Diary of a Wimpy Kid #10)\n",
      "Name: name, dtype: object\n"
     ]
    }
   ],
   "source": [
    "print(f\"Відповідь: {table.tail(1)['name']}\")"
   ]
  },
  {
   "cell_type": "code",
   "execution_count": 23,
   "id": "7b83c62e-36cd-4937-817b-5862482c074b",
   "metadata": {},
   "outputs": [
    {
     "data": {
      "text/html": [
       "<div>\n",
       "<style scoped>\n",
       "    .dataframe tbody tr th:only-of-type {\n",
       "        vertical-align: middle;\n",
       "    }\n",
       "\n",
       "    .dataframe tbody tr th {\n",
       "        vertical-align: top;\n",
       "    }\n",
       "\n",
       "    .dataframe thead tr th {\n",
       "        text-align: left;\n",
       "    }\n",
       "\n",
       "    .dataframe thead tr:last-of-type th {\n",
       "        text-align: right;\n",
       "    }\n",
       "</style>\n",
       "<table border=\"1\" class=\"dataframe\">\n",
       "  <thead>\n",
       "    <tr>\n",
       "      <th></th>\n",
       "      <th colspan=\"2\" halign=\"left\">price</th>\n",
       "    </tr>\n",
       "    <tr>\n",
       "      <th></th>\n",
       "      <th>min</th>\n",
       "      <th>max</th>\n",
       "    </tr>\n",
       "    <tr>\n",
       "      <th>genre</th>\n",
       "      <th></th>\n",
       "      <th></th>\n",
       "    </tr>\n",
       "  </thead>\n",
       "  <tbody>\n",
       "    <tr>\n",
       "      <th>Fiction</th>\n",
       "      <td>0</td>\n",
       "      <td>82</td>\n",
       "    </tr>\n",
       "    <tr>\n",
       "      <th>Non Fiction</th>\n",
       "      <td>0</td>\n",
       "      <td>105</td>\n",
       "    </tr>\n",
       "  </tbody>\n",
       "</table>\n",
       "</div>"
      ],
      "text/plain": [
       "            price     \n",
       "              min  max\n",
       "genre                 \n",
       "Fiction         0   82\n",
       "Non Fiction     0  105"
      ]
     },
     "execution_count": 23,
     "metadata": {},
     "output_type": "execute_result"
    }
   ],
   "source": [
    "table = dataset.groupby(['genre']).agg({'price': ['min', 'max']})\n",
    "table"
   ]
  },
  {
   "cell_type": "markdown",
   "id": "07c61a8a-41b9-42e1-945e-9f5dfc29b2d3",
   "metadata": {},
   "source": [
    "Максимальна ціна для жанру Fiction:"
   ]
  },
  {
   "cell_type": "code",
   "execution_count": 24,
   "id": "8a88347d-da87-45fc-801e-cecad628608d",
   "metadata": {},
   "outputs": [
    {
     "name": "stdout",
     "output_type": "stream",
     "text": [
      "Відповідь: 82\n"
     ]
    }
   ],
   "source": [
    "print(f\"Відповідь: {table.loc['Fiction'].max()}\")"
   ]
  },
  {
   "cell_type": "markdown",
   "id": "fcd3f0b0-87c1-4613-bc86-30485baca769",
   "metadata": {},
   "source": [
    "Мінімальна ціна для жанру Fiction:"
   ]
  },
  {
   "cell_type": "code",
   "execution_count": 25,
   "id": "33ff8f8f-1264-41fb-8d5c-ed9f1163c478",
   "metadata": {},
   "outputs": [
    {
     "name": "stdout",
     "output_type": "stream",
     "text": [
      "Відповідь: 0\n"
     ]
    }
   ],
   "source": [
    "print(f\"Відповідь: {table.loc['Fiction'].min()}\")"
   ]
  },
  {
   "cell_type": "markdown",
   "id": "5262a1d5-b39f-4c53-a2b6-ff5aae8f8cd6",
   "metadata": {},
   "source": [
    "Максимальна ціна для жанру Non Fiction:"
   ]
  },
  {
   "cell_type": "code",
   "execution_count": 26,
   "id": "d15708f8-54cf-4559-91c8-f18d7fa79d95",
   "metadata": {},
   "outputs": [
    {
     "name": "stdout",
     "output_type": "stream",
     "text": [
      "Відповідь: 105\n"
     ]
    }
   ],
   "source": [
    "print(f\"Відповідь: {table.loc['Non Fiction'].max()}\")"
   ]
  },
  {
   "cell_type": "markdown",
   "id": "ec892431-8fa8-478c-981f-dd83c622a0b4",
   "metadata": {},
   "source": [
    "Мінімальна ціна для жанру Non Fiction:"
   ]
  },
  {
   "cell_type": "code",
   "execution_count": 27,
   "id": "620a383e-9088-45b2-ac07-2d2e3293fbde",
   "metadata": {},
   "outputs": [
    {
     "name": "stdout",
     "output_type": "stream",
     "text": [
      "Відповідь: 0\n"
     ]
    }
   ],
   "source": [
    "print(f\"Відповідь: {table.loc['Non Fiction'].min()}\")"
   ]
  },
  {
   "cell_type": "code",
   "execution_count": 28,
   "id": "8464481e-873c-4eaf-a07a-140b64c3aa12",
   "metadata": {},
   "outputs": [
    {
     "data": {
      "text/html": [
       "<div>\n",
       "<style scoped>\n",
       "    .dataframe tbody tr th:only-of-type {\n",
       "        vertical-align: middle;\n",
       "    }\n",
       "\n",
       "    .dataframe tbody tr th {\n",
       "        vertical-align: top;\n",
       "    }\n",
       "\n",
       "    .dataframe thead th {\n",
       "        text-align: right;\n",
       "    }\n",
       "</style>\n",
       "<table border=\"1\" class=\"dataframe\">\n",
       "  <thead>\n",
       "    <tr style=\"text-align: right;\">\n",
       "      <th></th>\n",
       "      <th>count</th>\n",
       "    </tr>\n",
       "    <tr>\n",
       "      <th>author</th>\n",
       "      <th></th>\n",
       "    </tr>\n",
       "  </thead>\n",
       "  <tbody>\n",
       "    <tr>\n",
       "      <th>Jeff Kinney</th>\n",
       "      <td>12</td>\n",
       "    </tr>\n",
       "    <tr>\n",
       "      <th>Gary Chapman</th>\n",
       "      <td>11</td>\n",
       "    </tr>\n",
       "    <tr>\n",
       "      <th>Suzanne Collins</th>\n",
       "      <td>11</td>\n",
       "    </tr>\n",
       "    <tr>\n",
       "      <th>Rick Riordan</th>\n",
       "      <td>11</td>\n",
       "    </tr>\n",
       "    <tr>\n",
       "      <th>American Psychological Association</th>\n",
       "      <td>10</td>\n",
       "    </tr>\n",
       "    <tr>\n",
       "      <th>...</th>\n",
       "      <td>...</td>\n",
       "    </tr>\n",
       "    <tr>\n",
       "      <th>David Grann</th>\n",
       "      <td>1</td>\n",
       "    </tr>\n",
       "    <tr>\n",
       "      <th>Larry Schweikart</th>\n",
       "      <td>1</td>\n",
       "    </tr>\n",
       "    <tr>\n",
       "      <th>David McCullough</th>\n",
       "      <td>1</td>\n",
       "    </tr>\n",
       "    <tr>\n",
       "      <th>Khaled Hosseini</th>\n",
       "      <td>1</td>\n",
       "    </tr>\n",
       "    <tr>\n",
       "      <th>Muriel Barbery</th>\n",
       "      <td>1</td>\n",
       "    </tr>\n",
       "  </tbody>\n",
       "</table>\n",
       "<p>248 rows × 1 columns</p>\n",
       "</div>"
      ],
      "text/plain": [
       "                                    count\n",
       "author                                   \n",
       "Jeff Kinney                            12\n",
       "Gary Chapman                           11\n",
       "Suzanne Collins                        11\n",
       "Rick Riordan                           11\n",
       "American Psychological Association     10\n",
       "...                                   ...\n",
       "David Grann                             1\n",
       "Larry Schweikart                        1\n",
       "David McCullough                        1\n",
       "Khaled Hosseini                         1\n",
       "Muriel Barbery                          1\n",
       "\n",
       "[248 rows x 1 columns]"
      ]
     },
     "execution_count": 28,
     "metadata": {},
     "output_type": "execute_result"
    }
   ],
   "source": [
    "table_books = dataset.groupby(['author'])['name'].agg(['count']).sort_values(['count'], ascending=False)\n",
    "table_books"
   ]
  },
  {
   "cell_type": "markdown",
   "id": "ac0f3da6-c122-415a-a179-497fccdab3c3",
   "metadata": {},
   "source": [
    "Якої розмірності вийшла таблиця?"
   ]
  },
  {
   "cell_type": "code",
   "execution_count": 29,
   "id": "264f7a99-d06d-4586-9069-ca558a832490",
   "metadata": {},
   "outputs": [
    {
     "name": "stdout",
     "output_type": "stream",
     "text": [
      "Відповідь: (248, 1)\n"
     ]
    }
   ],
   "source": [
    "print(f\"Відповідь: {table_books.shape}\")"
   ]
  },
  {
   "cell_type": "markdown",
   "id": "8659a33c-c178-4174-8260-401e7a19e430",
   "metadata": {},
   "source": [
    "Який автор має найбільше книг?"
   ]
  },
  {
   "cell_type": "code",
   "execution_count": 30,
   "id": "657ae0e1-3957-4776-98c5-1b7ccb0c603b",
   "metadata": {},
   "outputs": [
    {
     "name": "stdout",
     "output_type": "stream",
     "text": [
      "Відповідь: author\n",
      "Jeff Kinney    12\n",
      "Name: count, dtype: int64\n"
     ]
    }
   ],
   "source": [
    "print(f\"Відповідь: {table_books.head(1)['count']}\")"
   ]
  },
  {
   "cell_type": "markdown",
   "id": "b8b6a235-528a-4f57-b22d-53edf4062623",
   "metadata": {},
   "source": [
    "Скільки книг цього автора?"
   ]
  },
  {
   "cell_type": "code",
   "execution_count": 31,
   "id": "7a35e321-7963-4db9-9810-d94016c35b73",
   "metadata": {},
   "outputs": [
    {
     "name": "stdout",
     "output_type": "stream",
     "text": [
      "Відповідь: 12\n"
     ]
    }
   ],
   "source": [
    "print(f\"Відповідь: {table_books.head(1)['count'].iloc[0]}\")"
   ]
  },
  {
   "cell_type": "code",
   "execution_count": 32,
   "id": "9d59950d-dab1-4027-9d68-a29ecec19b8d",
   "metadata": {},
   "outputs": [
    {
     "data": {
      "text/html": [
       "<div>\n",
       "<style scoped>\n",
       "    .dataframe tbody tr th:only-of-type {\n",
       "        vertical-align: middle;\n",
       "    }\n",
       "\n",
       "    .dataframe tbody tr th {\n",
       "        vertical-align: top;\n",
       "    }\n",
       "\n",
       "    .dataframe thead th {\n",
       "        text-align: right;\n",
       "    }\n",
       "</style>\n",
       "<table border=\"1\" class=\"dataframe\">\n",
       "  <thead>\n",
       "    <tr style=\"text-align: right;\">\n",
       "      <th></th>\n",
       "      <th>mean</th>\n",
       "    </tr>\n",
       "    <tr>\n",
       "      <th>author</th>\n",
       "      <th></th>\n",
       "    </tr>\n",
       "  </thead>\n",
       "  <tbody>\n",
       "    <tr>\n",
       "      <th>Patrick Thorpe</th>\n",
       "      <td>4.9</td>\n",
       "    </tr>\n",
       "    <tr>\n",
       "      <th>Lin-Manuel Miranda</th>\n",
       "      <td>4.9</td>\n",
       "    </tr>\n",
       "    <tr>\n",
       "      <th>Chip Gaines</th>\n",
       "      <td>4.9</td>\n",
       "    </tr>\n",
       "    <tr>\n",
       "      <th>Sherri Duskey Rinker</th>\n",
       "      <td>4.9</td>\n",
       "    </tr>\n",
       "    <tr>\n",
       "      <th>Nathan W. Pyle</th>\n",
       "      <td>4.9</td>\n",
       "    </tr>\n",
       "    <tr>\n",
       "      <th>...</th>\n",
       "      <td>...</td>\n",
       "    </tr>\n",
       "    <tr>\n",
       "      <th>Paula Hawkins</th>\n",
       "      <td>4.1</td>\n",
       "    </tr>\n",
       "    <tr>\n",
       "      <th>Muriel Barbery</th>\n",
       "      <td>4.0</td>\n",
       "    </tr>\n",
       "    <tr>\n",
       "      <th>Gillian Flynn</th>\n",
       "      <td>4.0</td>\n",
       "    </tr>\n",
       "    <tr>\n",
       "      <th>Gallup</th>\n",
       "      <td>4.0</td>\n",
       "    </tr>\n",
       "    <tr>\n",
       "      <th>Donna Tartt</th>\n",
       "      <td>3.9</td>\n",
       "    </tr>\n",
       "  </tbody>\n",
       "</table>\n",
       "<p>248 rows × 1 columns</p>\n",
       "</div>"
      ],
      "text/plain": [
       "                      mean\n",
       "author                    \n",
       "Patrick Thorpe         4.9\n",
       "Lin-Manuel Miranda     4.9\n",
       "Chip Gaines            4.9\n",
       "Sherri Duskey Rinker   4.9\n",
       "Nathan W. Pyle         4.9\n",
       "...                    ...\n",
       "Paula Hawkins          4.1\n",
       "Muriel Barbery         4.0\n",
       "Gillian Flynn          4.0\n",
       "Gallup                 4.0\n",
       "Donna Tartt            3.9\n",
       "\n",
       "[248 rows x 1 columns]"
      ]
     },
     "execution_count": 32,
     "metadata": {},
     "output_type": "execute_result"
    }
   ],
   "source": [
    "table_ratings = dataset.groupby(['author'])['user_rating'].agg(['mean']).sort_values(['mean'], ascending=False)\n",
    "table_ratings"
   ]
  },
  {
   "cell_type": "markdown",
   "id": "392ba69d-b036-452e-93e7-d98782f4e736",
   "metadata": {},
   "source": [
    "У якого автора середній рейтинг мінімальний?"
   ]
  },
  {
   "cell_type": "code",
   "execution_count": 33,
   "id": "e2e5950d-80c1-474b-a2c0-efdaa05f5478",
   "metadata": {},
   "outputs": [
    {
     "name": "stdout",
     "output_type": "stream",
     "text": [
      "Відповідь:              mean\n",
      "author           \n",
      "Donna Tartt   3.9\n"
     ]
    }
   ],
   "source": [
    "print(f\"Відповідь: {table_ratings.tail(1)}\")"
   ]
  },
  {
   "cell_type": "markdown",
   "id": "536a703d-4ea7-4dfd-a2b1-dc42be56c741",
   "metadata": {},
   "source": [
    "Який у цього автора середній рейтинг?"
   ]
  },
  {
   "cell_type": "code",
   "execution_count": 34,
   "id": "16aecd2a-04d4-4134-9e15-d52a992c17ad",
   "metadata": {},
   "outputs": [
    {
     "name": "stdout",
     "output_type": "stream",
     "text": [
      "Відповідь: 3.9\n"
     ]
    }
   ],
   "source": [
    "print(f\"Відповідь: {table_ratings.tail(1)['mean'].iloc[0]}\")"
   ]
  },
  {
   "cell_type": "code",
   "execution_count": 35,
   "id": "9e6245b7-f504-44c4-8eab-f42cac18eea5",
   "metadata": {},
   "outputs": [
    {
     "data": {
      "text/html": [
       "<div>\n",
       "<style scoped>\n",
       "    .dataframe tbody tr th:only-of-type {\n",
       "        vertical-align: middle;\n",
       "    }\n",
       "\n",
       "    .dataframe tbody tr th {\n",
       "        vertical-align: top;\n",
       "    }\n",
       "\n",
       "    .dataframe thead th {\n",
       "        text-align: right;\n",
       "    }\n",
       "</style>\n",
       "<table border=\"1\" class=\"dataframe\">\n",
       "  <thead>\n",
       "    <tr style=\"text-align: right;\">\n",
       "      <th></th>\n",
       "      <th>count</th>\n",
       "      <th>mean</th>\n",
       "    </tr>\n",
       "    <tr>\n",
       "      <th>author</th>\n",
       "      <th></th>\n",
       "      <th></th>\n",
       "    </tr>\n",
       "  </thead>\n",
       "  <tbody>\n",
       "    <tr>\n",
       "      <th>Jeff Kinney</th>\n",
       "      <td>12</td>\n",
       "      <td>4.8</td>\n",
       "    </tr>\n",
       "    <tr>\n",
       "      <th>Gary Chapman</th>\n",
       "      <td>11</td>\n",
       "      <td>4.7</td>\n",
       "    </tr>\n",
       "    <tr>\n",
       "      <th>Suzanne Collins</th>\n",
       "      <td>11</td>\n",
       "      <td>4.7</td>\n",
       "    </tr>\n",
       "    <tr>\n",
       "      <th>Rick Riordan</th>\n",
       "      <td>11</td>\n",
       "      <td>4.8</td>\n",
       "    </tr>\n",
       "    <tr>\n",
       "      <th>American Psychological Association</th>\n",
       "      <td>10</td>\n",
       "      <td>4.5</td>\n",
       "    </tr>\n",
       "    <tr>\n",
       "      <th>...</th>\n",
       "      <td>...</td>\n",
       "      <td>...</td>\n",
       "    </tr>\n",
       "    <tr>\n",
       "      <th>David Grann</th>\n",
       "      <td>1</td>\n",
       "      <td>4.6</td>\n",
       "    </tr>\n",
       "    <tr>\n",
       "      <th>Larry Schweikart</th>\n",
       "      <td>1</td>\n",
       "      <td>4.6</td>\n",
       "    </tr>\n",
       "    <tr>\n",
       "      <th>David McCullough</th>\n",
       "      <td>1</td>\n",
       "      <td>4.7</td>\n",
       "    </tr>\n",
       "    <tr>\n",
       "      <th>Khaled Hosseini</th>\n",
       "      <td>1</td>\n",
       "      <td>4.3</td>\n",
       "    </tr>\n",
       "    <tr>\n",
       "      <th>Muriel Barbery</th>\n",
       "      <td>1</td>\n",
       "      <td>4.0</td>\n",
       "    </tr>\n",
       "  </tbody>\n",
       "</table>\n",
       "<p>248 rows × 2 columns</p>\n",
       "</div>"
      ],
      "text/plain": [
       "                                    count  mean\n",
       "author                                         \n",
       "Jeff Kinney                            12   4.8\n",
       "Gary Chapman                           11   4.7\n",
       "Suzanne Collins                        11   4.7\n",
       "Rick Riordan                           11   4.8\n",
       "American Psychological Association     10   4.5\n",
       "...                                   ...   ...\n",
       "David Grann                             1   4.6\n",
       "Larry Schweikart                        1   4.6\n",
       "David McCullough                        1   4.7\n",
       "Khaled Hosseini                         1   4.3\n",
       "Muriel Barbery                          1   4.0\n",
       "\n",
       "[248 rows x 2 columns]"
      ]
     },
     "execution_count": 35,
     "metadata": {},
     "output_type": "execute_result"
    }
   ],
   "source": [
    "table = pd.concat([table_books, table_ratings], axis=1).round(1)\n",
    "table"
   ]
  },
  {
   "cell_type": "code",
   "execution_count": 36,
   "id": "ae335b37-d187-4230-a269-7656bc956c0e",
   "metadata": {},
   "outputs": [
    {
     "data": {
      "text/html": [
       "<div>\n",
       "<style scoped>\n",
       "    .dataframe tbody tr th:only-of-type {\n",
       "        vertical-align: middle;\n",
       "    }\n",
       "\n",
       "    .dataframe tbody tr th {\n",
       "        vertical-align: top;\n",
       "    }\n",
       "\n",
       "    .dataframe thead th {\n",
       "        text-align: right;\n",
       "    }\n",
       "</style>\n",
       "<table border=\"1\" class=\"dataframe\">\n",
       "  <thead>\n",
       "    <tr style=\"text-align: right;\">\n",
       "      <th></th>\n",
       "      <th>count</th>\n",
       "      <th>mean</th>\n",
       "    </tr>\n",
       "    <tr>\n",
       "      <th>author</th>\n",
       "      <th></th>\n",
       "      <th></th>\n",
       "    </tr>\n",
       "  </thead>\n",
       "  <tbody>\n",
       "    <tr>\n",
       "      <th>Muriel Barbery</th>\n",
       "      <td>1</td>\n",
       "      <td>4.0</td>\n",
       "    </tr>\n",
       "    <tr>\n",
       "      <th>Pierre Dukan</th>\n",
       "      <td>1</td>\n",
       "      <td>4.1</td>\n",
       "    </tr>\n",
       "    <tr>\n",
       "      <th>Chris Cleave</th>\n",
       "      <td>1</td>\n",
       "      <td>4.1</td>\n",
       "    </tr>\n",
       "    <tr>\n",
       "      <th>Ian K. Smith M.D.</th>\n",
       "      <td>1</td>\n",
       "      <td>4.1</td>\n",
       "    </tr>\n",
       "    <tr>\n",
       "      <th>Rob Bell</th>\n",
       "      <td>1</td>\n",
       "      <td>4.2</td>\n",
       "    </tr>\n",
       "    <tr>\n",
       "      <th>...</th>\n",
       "      <td>...</td>\n",
       "      <td>...</td>\n",
       "    </tr>\n",
       "    <tr>\n",
       "      <th>American Psychological Association</th>\n",
       "      <td>10</td>\n",
       "      <td>4.5</td>\n",
       "    </tr>\n",
       "    <tr>\n",
       "      <th>Gary Chapman</th>\n",
       "      <td>11</td>\n",
       "      <td>4.7</td>\n",
       "    </tr>\n",
       "    <tr>\n",
       "      <th>Suzanne Collins</th>\n",
       "      <td>11</td>\n",
       "      <td>4.7</td>\n",
       "    </tr>\n",
       "    <tr>\n",
       "      <th>Rick Riordan</th>\n",
       "      <td>11</td>\n",
       "      <td>4.8</td>\n",
       "    </tr>\n",
       "    <tr>\n",
       "      <th>Jeff Kinney</th>\n",
       "      <td>12</td>\n",
       "      <td>4.8</td>\n",
       "    </tr>\n",
       "  </tbody>\n",
       "</table>\n",
       "<p>248 rows × 2 columns</p>\n",
       "</div>"
      ],
      "text/plain": [
       "                                    count  mean\n",
       "author                                         \n",
       "Muriel Barbery                          1   4.0\n",
       "Pierre Dukan                            1   4.1\n",
       "Chris Cleave                            1   4.1\n",
       "Ian K. Smith M.D.                       1   4.1\n",
       "Rob Bell                                1   4.2\n",
       "...                                   ...   ...\n",
       "American Psychological Association     10   4.5\n",
       "Gary Chapman                           11   4.7\n",
       "Suzanne Collins                        11   4.7\n",
       "Rick Riordan                           11   4.8\n",
       "Jeff Kinney                            12   4.8\n",
       "\n",
       "[248 rows x 2 columns]"
      ]
     },
     "execution_count": 36,
     "metadata": {},
     "output_type": "execute_result"
    }
   ],
   "source": [
    "table = table.sort_values(['count', 'mean'])\n",
    "table"
   ]
  },
  {
   "cell_type": "markdown",
   "id": "f0786112-8046-44ab-95ba-e3e95177db68",
   "metadata": {},
   "source": [
    "Який автор перший у списку?"
   ]
  },
  {
   "cell_type": "code",
   "execution_count": 37,
   "id": "4ec77ca0-22e3-4c62-93a6-a18c9f4c16c4",
   "metadata": {},
   "outputs": [
    {
     "name": "stdout",
     "output_type": "stream",
     "text": [
      "Відповідь:                 count  mean\n",
      "author                     \n",
      "Muriel Barbery      1   4.0\n"
     ]
    }
   ],
   "source": [
    "print(f\"Відповідь: {table.head(1)}\")"
   ]
  },
  {
   "cell_type": "code",
   "execution_count": null,
   "id": "6f6b1b07-9879-4b9c-8a41-a2225dbc72e5",
   "metadata": {},
   "outputs": [],
   "source": []
  }
 ],
 "metadata": {
  "kernelspec": {
   "display_name": "Python 3 (ipykernel)",
   "language": "python",
   "name": "python3"
  },
  "language_info": {
   "codemirror_mode": {
    "name": "ipython",
    "version": 3
   },
   "file_extension": ".py",
   "mimetype": "text/x-python",
   "name": "python",
   "nbconvert_exporter": "python",
   "pygments_lexer": "ipython3",
   "version": "3.10.8"
  }
 },
 "nbformat": 4,
 "nbformat_minor": 5
}
